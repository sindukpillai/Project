{
 "cells": [
  {
   "cell_type": "code",
   "execution_count": 1,
   "id": "8d3c718e",
   "metadata": {},
   "outputs": [
    {
     "name": "stdout",
     "output_type": "stream",
     "text": [
      "                                  country age_group               travel_with  \\\n",
      "Tour_ID                                                                         \n",
      "tour_id1hffseyw                     ITALY     45-64             With Children   \n",
      "tour_idnacd7zag            UNITED KINGDOM     25-44               With Spouse   \n",
      "tour_id62vz7e71  UNITED STATES OF AMERICA       65+               With Spouse   \n",
      "tour_idrc76tzix                    RWANDA     25-44  With Spouse and Children   \n",
      "tour_idn723m0n9  UNITED STATES OF AMERICA     45-64                     Alone   \n",
      "\n",
      "                 total_female  total_male                         purpose  \\\n",
      "Tour_ID                                                                     \n",
      "tour_id1hffseyw           0.0         2.0  Visiting Friends and Relatives   \n",
      "tour_idnacd7zag           1.0         1.0            Leisure and Holidays   \n",
      "tour_id62vz7e71           1.0         1.0            Leisure and Holidays   \n",
      "tour_idrc76tzix           3.0         1.0            Leisure and Holidays   \n",
      "tour_idn723m0n9           0.0         1.0            Leisure and Holidays   \n",
      "\n",
      "                    main_activity                  info_source  \\\n",
      "Tour_ID                                                          \n",
      "tour_id1hffseyw     Beach Tourism           Friends, relatives   \n",
      "tour_idnacd7zag  Wildlife Tourism  Travel agent, tour operator   \n",
      "tour_id62vz7e71   Widlife Tourism  Travel agent, tour operator   \n",
      "tour_idrc76tzix     Beach Tourism               Radio, TV, Web   \n",
      "tour_idn723m0n9   Widlife Tourism  Travel agent, tour operator   \n",
      "\n",
      "                tour_arrangement package_transport_int package_accomodation  \\\n",
      "Tour_ID                                                                       \n",
      "tour_id1hffseyw     Package Tour                   Yes                  Yes   \n",
      "tour_idnacd7zag     Package Tour                   Yes                  Yes   \n",
      "tour_id62vz7e71     Package Tour                   Yes                  Yes   \n",
      "tour_idrc76tzix      Independent                    No                   No   \n",
      "tour_idn723m0n9     Package Tour                   Yes                  Yes   \n",
      "\n",
      "                package_food package_transport_tz package_sightseeing  \\\n",
      "Tour_ID                                                                 \n",
      "tour_id1hffseyw          Yes                  Yes                  No   \n",
      "tour_idnacd7zag          Yes                  Yes                  No   \n",
      "tour_id62vz7e71          Yes                  Yes                 Yes   \n",
      "tour_idrc76tzix           No                   No                  No   \n",
      "tour_idn723m0n9          Yes                  Yes                  No   \n",
      "\n",
      "                package_guided_tour package_insurance  night_mainland  \\\n",
      "Tour_ID                                                                 \n",
      "tour_id1hffseyw                  No                No               0   \n",
      "tour_idnacd7zag                  No                No               0   \n",
      "tour_id62vz7e71                 Yes                No               6   \n",
      "tour_idrc76tzix                  No                No               3   \n",
      "tour_idn723m0n9                 Yes               Yes               7   \n",
      "\n",
      "                 night_zanzibar first_trip_tz cost_category  \n",
      "Tour_ID                                                      \n",
      "tour_id1hffseyw               7           Yes     High Cost  \n",
      "tour_idnacd7zag               7           Yes     High Cost  \n",
      "tour_id62vz7e71               6           Yes   Higher Cost  \n",
      "tour_idrc76tzix               0            No    Lower Cost  \n",
      "tour_idn723m0n9               0           Yes   Higher Cost  \n",
      "(18506, 20)\n",
      "Index(['country', 'age_group', 'travel_with', 'total_female', 'total_male',\n",
      "       'purpose', 'main_activity', 'info_source', 'tour_arrangement',\n",
      "       'package_transport_int', 'package_accomodation', 'package_food',\n",
      "       'package_transport_tz', 'package_sightseeing', 'package_guided_tour',\n",
      "       'package_insurance', 'night_mainland', 'night_zanzibar',\n",
      "       'first_trip_tz', 'cost_category'],\n",
      "      dtype='object')\n"
     ]
    }
   ],
   "source": [
    "import pandas as pd\n",
    "import numpy as np\n",
    "import matplotlib.pyplot as plt\n",
    "import seaborn as sns\n",
    "#Read Dataset  and set col index\n",
    "#created one column (Sl No) in excel file to set up as index column\n",
    "data=pd.read_csv('C:\\\\Users\\\\csstf107\\\\Desktop\\\\Train.csv',index_col=0)\n",
    "print(data.head())\n",
    "print(data.shape)\n",
    "print(data.columns)"
   ]
  },
  {
   "cell_type": "code",
   "execution_count": null,
   "id": "4e88bffe",
   "metadata": {},
   "outputs": [],
   "source": []
  }
 ],
 "metadata": {
  "kernelspec": {
   "display_name": "Python 3",
   "language": "python",
   "name": "python3"
  },
  "language_info": {
   "codemirror_mode": {
    "name": "ipython",
    "version": 3
   },
   "file_extension": ".py",
   "mimetype": "text/x-python",
   "name": "python",
   "nbconvert_exporter": "python",
   "pygments_lexer": "ipython3",
   "version": "3.8.8"
  }
 },
 "nbformat": 4,
 "nbformat_minor": 5
}
l2=[]
l1=data['age_group'].tolist()
for i in l1:
    if i=='18-24':
        age='young'
    elif i=='25-44':
        age='adult'
    elif i=='45-64':
        age='senior'
    else:
        age='super_senior'
    l2.append(age)
data['age']=l2
data
